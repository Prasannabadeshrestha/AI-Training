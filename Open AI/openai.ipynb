{
 "cells": [
  {
   "cell_type": "code",
   "execution_count": 3,
   "metadata": {},
   "outputs": [
    {
     "name": "stdout",
     "output_type": "stream",
     "text": [
      "Defaulting to user installation because normal site-packages is not writeable\n",
      "Requirement already satisfied: openai in /home/prasanna/.local/lib/python3.10/site-packages (1.13.3)\n",
      "Requirement already satisfied: pydantic<3,>=1.9.0 in /home/prasanna/.local/lib/python3.10/site-packages (from openai) (2.6.3)\n",
      "Requirement already satisfied: httpx<1,>=0.23.0 in /home/prasanna/.local/lib/python3.10/site-packages (from openai) (0.27.0)\n",
      "Requirement already satisfied: tqdm>4 in /home/prasanna/.local/lib/python3.10/site-packages (from openai) (4.66.2)\n",
      "Requirement already satisfied: sniffio in /home/prasanna/.local/lib/python3.10/site-packages (from openai) (1.3.1)\n",
      "Requirement already satisfied: distro<2,>=1.7.0 in /usr/lib/python3/dist-packages (from openai) (1.7.0)\n",
      "Requirement already satisfied: anyio<5,>=3.5.0 in /home/prasanna/.local/lib/python3.10/site-packages (from openai) (4.3.0)\n",
      "Requirement already satisfied: typing-extensions<5,>=4.7 in /home/prasanna/.local/lib/python3.10/site-packages (from openai) (4.10.0)\n",
      "Requirement already satisfied: idna>=2.8 in /usr/lib/python3/dist-packages (from anyio<5,>=3.5.0->openai) (3.3)\n",
      "Requirement already satisfied: exceptiongroup>=1.0.2 in /home/prasanna/.local/lib/python3.10/site-packages (from anyio<5,>=3.5.0->openai) (1.2.0)\n",
      "Requirement already satisfied: certifi in /usr/lib/python3/dist-packages (from httpx<1,>=0.23.0->openai) (2020.6.20)\n",
      "Requirement already satisfied: httpcore==1.* in /home/prasanna/.local/lib/python3.10/site-packages (from httpx<1,>=0.23.0->openai) (1.0.4)\n",
      "Requirement already satisfied: h11<0.15,>=0.13 in /home/prasanna/.local/lib/python3.10/site-packages (from httpcore==1.*->httpx<1,>=0.23.0->openai) (0.14.0)\n",
      "Requirement already satisfied: annotated-types>=0.4.0 in /home/prasanna/.local/lib/python3.10/site-packages (from pydantic<3,>=1.9.0->openai) (0.6.0)\n",
      "Requirement already satisfied: pydantic-core==2.16.3 in /home/prasanna/.local/lib/python3.10/site-packages (from pydantic<3,>=1.9.0->openai) (2.16.3)\n"
     ]
    }
   ],
   "source": [
    "!pip3 install openai"
   ]
  },
  {
   "cell_type": "code",
   "execution_count": 4,
   "metadata": {},
   "outputs": [],
   "source": [
    "from openai import OpenAI\n",
    "with open('api_key.txt', 'r')as f:\n",
    "    api_key_in=f.readlines()\n",
    "\n",
    "api_key_in =api_key_in[0]\n",
    "\n",
    "client = OpenAI(api_key=api_key_in)"
   ]
  },
  {
   "cell_type": "code",
   "execution_count": 5,
   "metadata": {},
   "outputs": [],
   "source": [
    "input_1= 'My name is Raj, I am an Engineer by Profession. '\n",
    "input_2 = 'Can you tell be my name and my profession ?' \n",
    "input_3= 'Can you tell me a bunch of funny and smart movies that I can watch?'\n",
    "response = client.chat.completions.create(\n",
    "    model=\"gpt-3.5-turbo\",\n",
    "    #prompt\n",
    "    messages=[\n",
    "    {\"role\": \"system\", \"content\": \"You are a helpful assistant.\"},\n",
    "    {\"role\": \"user\", \"content\": input_3}\n",
    "    ]\n",
    ")"
   ]
  },
  {
   "cell_type": "code",
   "execution_count": 6,
   "metadata": {},
   "outputs": [
    {
     "name": "stdout",
     "output_type": "stream",
     "text": [
      "ChatCompletion(id='chatcmpl-9AHweZQoWBonCZ6QZtINSw8NfAAHB', choices=[Choice(finish_reason='stop', index=0, logprobs=None, message=ChatCompletionMessage(content='Of course! Here are some funny and smart movies that you might enjoy:\\n\\n1. \"Groundhog Day\" - A hilarious and clever comedy about a man stuck in a time loop.\\n2. \"The Grand Budapest Hotel\" - A quirky and visually stunning film by Wes Anderson.\\n3. \"Inception\" - A mind-bending heist movie that will keep you on the edge of your seat.\\n4. \"The Big Lebowski\" - A cult classic comedy with unforgettable characters.\\n5. \"The Social Network\" - A smart and fast-paced drama about the founding of Facebook.\\n6. \"Ghostbusters\" - A supernatural comedy with a perfect mix of humor and scares.\\n7. \"Dr. Strangelove or: How I Learned to Stop Worrying and Love the Bomb\" - A satirical take on the Cold War and nuclear paranoia.\\n8. \"Eternal Sunshine of the Spotless Mind\" - A unique and poignant love story with a sci-fi twist.\\n9. \"Shaun of the Dead\" - A clever blend of comedy and horror set during a zombie apocalypse.\\n10. \"Anchorman: The Legend of Ron Burgundy\" - A hilarious comedy starring Will Ferrell as a clueless news anchor.\\n\\nI hope you find these movie suggestions entertaining and enjoyable!', role='assistant', function_call=None, tool_calls=None))], created=1712239288, model='gpt-3.5-turbo-0125', object='chat.completion', system_fingerprint='fp_b28b39ffa8', usage=CompletionUsage(completion_tokens=262, prompt_tokens=33, total_tokens=295))\n"
     ]
    }
   ],
   "source": [
    "print(response)"
   ]
  },
  {
   "cell_type": "code",
   "execution_count": 7,
   "metadata": {},
   "outputs": [
    {
     "name": "stdout",
     "output_type": "stream",
     "text": [
      "Of course! Here are some funny and smart movies that you might enjoy:\n",
      "\n",
      "1. \"Groundhog Day\" - A hilarious and clever comedy about a man stuck in a time loop.\n",
      "2. \"The Grand Budapest Hotel\" - A quirky and visually stunning film by Wes Anderson.\n",
      "3. \"Inception\" - A mind-bending heist movie that will keep you on the edge of your seat.\n",
      "4. \"The Big Lebowski\" - A cult classic comedy with unforgettable characters.\n",
      "5. \"The Social Network\" - A smart and fast-paced drama about the founding of Facebook.\n",
      "6. \"Ghostbusters\" - A supernatural comedy with a perfect mix of humor and scares.\n",
      "7. \"Dr. Strangelove or: How I Learned to Stop Worrying and Love the Bomb\" - A satirical take on the Cold War and nuclear paranoia.\n",
      "8. \"Eternal Sunshine of the Spotless Mind\" - A unique and poignant love story with a sci-fi twist.\n",
      "9. \"Shaun of the Dead\" - A clever blend of comedy and horror set during a zombie apocalypse.\n",
      "10. \"Anchorman: The Legend of Ron Burgundy\" - A hilarious comedy starring Will Ferrell as a clueless news anchor.\n",
      "\n",
      "I hope you find these movie suggestions entertaining and enjoyable!\n"
     ]
    }
   ],
   "source": [
    "print(response.choices[0].message.content)"
   ]
  },
  {
   "cell_type": "code",
   "execution_count": 8,
   "metadata": {},
   "outputs": [],
   "source": [
    "def chat_with_gpt(user_input,conversation_history):\n",
    "    conversation_history.append({\"role\": \"user\", \"content\": user_input})\n",
    "    # Call the OpenAI API to get a response\n",
    "    response = client.chat.completions.create(\n",
    "        model=\"gpt-3.5-turbo\",\n",
    "        messages=conversation_history\n",
    "    )\n",
    "\n",
    "    # Extract the assistant's reply from the response\n",
    "    assistant_reply = response.choices[0].message.content\n",
    "\n",
    "    return assistant_reply, conversation_history\n",
    "\n",
    "conversation_history=[{\"role\": \"system\", \"content\": \"You are a system that can basically answer anything about movies/series\" }]"
   ]
  },
  {
   "cell_type": "code",
   "execution_count": 9,
   "metadata": {},
   "outputs": [
    {
     "name": "stdout",
     "output_type": "stream",
     "text": [
      "You: hi\n",
      "\t\tAssistant: Hello! How can I assist you today?\n",
      "You: what can you do?\n",
      "\t\tAssistant: I can answer questions, provide information, give recommendations, and engage in discussions about movies and series. You can ask me about specific movies, actors, directors, genres, plot summaries, release dates, and much more. Feel free to ask me anything related to the world of film and television!\n",
      "You: \n",
      "\t\tAssistant: I can answer questions, provide information, and have discussions about movies and TV series. Feel free to ask me anything related to the world of entertainment!\n"
     ]
    }
   ],
   "source": [
    "while True:\n",
    "    user_input = input(\"You: \")\n",
    "    if user_input.lower() == 'bye':\n",
    "        break\n",
    "    \n",
    "    assistant_reply, conversation_history = chat_with_gpt(user_input, conversation_history)\n",
    "    print(f'You: {user_input}')\n",
    "    print(\"\\t\\tAssistant:\", str(assistant_reply))"
   ]
  }
 ],
 "metadata": {
  "kernelspec": {
   "display_name": "Python 3.10.6 64-bit",
   "language": "python",
   "name": "python3"
  },
  "language_info": {
   "codemirror_mode": {
    "name": "ipython",
    "version": 3
   },
   "file_extension": ".py",
   "mimetype": "text/x-python",
   "name": "python",
   "nbconvert_exporter": "python",
   "pygments_lexer": "ipython3",
   "version": "3.10.6"
  },
  "orig_nbformat": 4,
  "vscode": {
   "interpreter": {
    "hash": "916dbcbb3f70747c44a77c7bcd40155683ae19c65e1c03b4aa3499c5328201f1"
   }
  }
 },
 "nbformat": 4,
 "nbformat_minor": 2
}
