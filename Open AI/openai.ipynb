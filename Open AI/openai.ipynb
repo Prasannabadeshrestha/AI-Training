{
 "cells": [
  {
   "cell_type": "code",
   "execution_count": 1,
   "metadata": {},
   "outputs": [
    {
     "name": "stdout",
     "output_type": "stream",
     "text": [
      "Defaulting to user installation because normal site-packages is not writeable\n",
      "Requirement already satisfied: openai in /home/prasanna/.local/lib/python3.10/site-packages (1.13.3)\n",
      "Requirement already satisfied: typing-extensions<5,>=4.7 in /home/prasanna/.local/lib/python3.10/site-packages (from openai) (4.10.0)\n",
      "Requirement already satisfied: httpx<1,>=0.23.0 in /home/prasanna/.local/lib/python3.10/site-packages (from openai) (0.27.0)\n",
      "Requirement already satisfied: pydantic<3,>=1.9.0 in /home/prasanna/.local/lib/python3.10/site-packages (from openai) (2.6.3)\n",
      "Requirement already satisfied: tqdm>4 in /home/prasanna/.local/lib/python3.10/site-packages (from openai) (4.66.2)\n",
      "Requirement already satisfied: sniffio in /home/prasanna/.local/lib/python3.10/site-packages (from openai) (1.3.1)\n",
      "Requirement already satisfied: anyio<5,>=3.5.0 in /home/prasanna/.local/lib/python3.10/site-packages (from openai) (4.3.0)\n",
      "Requirement already satisfied: distro<2,>=1.7.0 in /usr/lib/python3/dist-packages (from openai) (1.7.0)\n",
      "Requirement already satisfied: idna>=2.8 in /usr/lib/python3/dist-packages (from anyio<5,>=3.5.0->openai) (3.3)\n",
      "Requirement already satisfied: exceptiongroup>=1.0.2 in /home/prasanna/.local/lib/python3.10/site-packages (from anyio<5,>=3.5.0->openai) (1.2.0)\n",
      "Requirement already satisfied: httpcore==1.* in /home/prasanna/.local/lib/python3.10/site-packages (from httpx<1,>=0.23.0->openai) (1.0.4)\n",
      "Requirement already satisfied: certifi in /usr/lib/python3/dist-packages (from httpx<1,>=0.23.0->openai) (2020.6.20)\n",
      "Requirement already satisfied: h11<0.15,>=0.13 in /home/prasanna/.local/lib/python3.10/site-packages (from httpcore==1.*->httpx<1,>=0.23.0->openai) (0.14.0)\n",
      "Requirement already satisfied: annotated-types>=0.4.0 in /home/prasanna/.local/lib/python3.10/site-packages (from pydantic<3,>=1.9.0->openai) (0.6.0)\n",
      "Requirement already satisfied: pydantic-core==2.16.3 in /home/prasanna/.local/lib/python3.10/site-packages (from pydantic<3,>=1.9.0->openai) (2.16.3)\n"
     ]
    }
   ],
   "source": [
    "!pip3 install openai"
   ]
  },
  {
   "cell_type": "code",
   "execution_count": 2,
   "metadata": {},
   "outputs": [],
   "source": [
    "from openai import OpenAI\n",
    "with open('api_key.txt', 'r')as f:\n",
    "    api_key_in=f.readlines()\n",
    "\n",
    "api_key_in =api_key_in[0]\n",
    "\n",
    "client = OpenAI(api_key=api_key_in)"
   ]
  },
  {
   "cell_type": "code",
   "execution_count": 3,
   "metadata": {},
   "outputs": [],
   "source": [
    "input_1= 'My name is Raj, I am an Engineer by Profession. '\n",
    "input_2 = 'Can you tell be my name and my profession ?' \n",
    "input_3= 'Can you tell me a bunch of funny and smart movies that I can watch?'\n",
    "response = client.chat.completions.create(\n",
    "    model=\"gpt-3.5-turbo\",\n",
    "    #prompt\n",
    "    messages=[\n",
    "    {\"role\": \"system\", \"content\": \"You are a helpful assistant.\"},\n",
    "    {\"role\": \"user\", \"content\": input_3}\n",
    "    ]\n",
    ")"
   ]
  },
  {
   "cell_type": "code",
   "execution_count": 4,
   "metadata": {},
   "outputs": [
    {
     "name": "stdout",
     "output_type": "stream",
     "text": [
      "ChatCompletion(id='chatcmpl-9AHn7QtrMDzqwXBO2JcblsJ0qy4PC', choices=[Choice(finish_reason='stop', index=0, logprobs=None, message=ChatCompletionMessage(content='Sure! Here is a list of funny and smart movies that you might enjoy watching:\\n\\n1. \"The Grand Budapest Hotel\" (2014) - A quirky and visually stunning film directed by Wes Anderson.\\n2. \"Dr. Strangelove or: How I Learned to Stop Worrying and Love the Bomb\" (1964) - A satirical black comedy about nuclear war, directed by Stanley Kubrick.\\n3. \"Being John Malkovich\" (1999) - A surreal and thought-provoking comedy directed by Spike Jonze.\\n4. \"In Bruges\" (2008) - A darkly humorous film about two hitmen hiding out in Bruges, directed by Martin McDonagh.\\n5. \"Hot Fuzz\" (2007) - A clever action-comedy directed by Edgar Wright, known for its sharp humor and clever references.\\n6. \"The Big Lebowski\" (1998) - A cult classic comedy directed by the Coen Brothers, known for its quirky characters and offbeat humor.\\n7. \"Groundhog Day\" (1993) - A comedy starring Bill Murray about a man who relives the same day over and over again, directed by Harold Ramis.\\n8. \"Annie Hall\" (1977) - A romantic comedy directed by Woody Allen, known for its wit and humor.\\n9. \"Superbad\" (2007) - A coming-of-age comedy directed by Greg Mottola, known for its raunchy humor and clever dialogue.\\n10. \"Election\" (1999) - A satirical comedy directed by Alexander Payne, about a high school election gone awry.\\n\\nI hope you find these movie recommendations entertaining!', role='assistant', function_call=None, tool_calls=None))], created=1712238697, model='gpt-3.5-turbo-0125', object='chat.completion', system_fingerprint='fp_b28b39ffa8', usage=CompletionUsage(completion_tokens=346, prompt_tokens=33, total_tokens=379))\n"
     ]
    }
   ],
   "source": [
    "print(response)"
   ]
  },
  {
   "cell_type": "code",
   "execution_count": 5,
   "metadata": {},
   "outputs": [
    {
     "name": "stdout",
     "output_type": "stream",
     "text": [
      "Sure! Here is a list of funny and smart movies that you might enjoy watching:\n",
      "\n",
      "1. \"The Grand Budapest Hotel\" (2014) - A quirky and visually stunning film directed by Wes Anderson.\n",
      "2. \"Dr. Strangelove or: How I Learned to Stop Worrying and Love the Bomb\" (1964) - A satirical black comedy about nuclear war, directed by Stanley Kubrick.\n",
      "3. \"Being John Malkovich\" (1999) - A surreal and thought-provoking comedy directed by Spike Jonze.\n",
      "4. \"In Bruges\" (2008) - A darkly humorous film about two hitmen hiding out in Bruges, directed by Martin McDonagh.\n",
      "5. \"Hot Fuzz\" (2007) - A clever action-comedy directed by Edgar Wright, known for its sharp humor and clever references.\n",
      "6. \"The Big Lebowski\" (1998) - A cult classic comedy directed by the Coen Brothers, known for its quirky characters and offbeat humor.\n",
      "7. \"Groundhog Day\" (1993) - A comedy starring Bill Murray about a man who relives the same day over and over again, directed by Harold Ramis.\n",
      "8. \"Annie Hall\" (1977) - A romantic comedy directed by Woody Allen, known for its wit and humor.\n",
      "9. \"Superbad\" (2007) - A coming-of-age comedy directed by Greg Mottola, known for its raunchy humor and clever dialogue.\n",
      "10. \"Election\" (1999) - A satirical comedy directed by Alexander Payne, about a high school election gone awry.\n",
      "\n",
      "I hope you find these movie recommendations entertaining!\n"
     ]
    }
   ],
   "source": [
    "print(response.choices[0].message.content)"
   ]
  },
  {
   "cell_type": "code",
   "execution_count": 6,
   "metadata": {},
   "outputs": [],
   "source": [
    "def chat_with_gpt(user_input,conversation_history):\n",
    "    conversation_history.append({\"role\": \"user\", \"content\": user_input})\n",
    "    # Call the OpenAI API to get a response\n",
    "    response = client.chat.completions.create(\n",
    "        model=\"gpt-3.5-turbo\",\n",
    "        messages=conversation_history\n",
    "    )\n",
    "\n",
    "    # Extract the assistant's reply from the response\n",
    "    assistant_reply = response.choices[0].message.content\n",
    "\n",
    "    return assistant_reply, conversation_history\n",
    "\n",
    "conversation_history=[{\"role\": \"system\", \"content\": \"You are a system that can basically answer anything about movies/series\" }]"
   ]
  }
 ],
 "metadata": {
  "kernelspec": {
   "display_name": "Python 3.10.6 64-bit",
   "language": "python",
   "name": "python3"
  },
  "language_info": {
   "codemirror_mode": {
    "name": "ipython",
    "version": 3
   },
   "file_extension": ".py",
   "mimetype": "text/x-python",
   "name": "python",
   "nbconvert_exporter": "python",
   "pygments_lexer": "ipython3",
   "version": "3.10.6"
  },
  "orig_nbformat": 4,
  "vscode": {
   "interpreter": {
    "hash": "916dbcbb3f70747c44a77c7bcd40155683ae19c65e1c03b4aa3499c5328201f1"
   }
  }
 },
 "nbformat": 4,
 "nbformat_minor": 2
}
